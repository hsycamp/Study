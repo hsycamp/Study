{
 "cells": [
  {
   "cell_type": "markdown",
   "metadata": {},
   "source": [
    "# BeautifulSoup Module"
   ]
  },
  {
   "cell_type": "code",
   "execution_count": 5,
   "metadata": {},
   "outputs": [],
   "source": [
    "import requests\n",
    "import pandas as pd\n",
    "import numpy as np\n",
    "import matplotlib.pyplot as plt\n",
    "from bs4 import BeautifulSoup"
   ]
  },
  {
   "cell_type": "code",
   "execution_count": 6,
   "metadata": {},
   "outputs": [],
   "source": [
    "class HTMLTableParser:\n",
    "    def parse_url(self, url):\n",
    "        response = requests.get(url)\n",
    "        soup = BeautifulSoup(response.text, \"lxml\")\n",
    "        return [(self.parse_html_table(table)) for table in soup.find_all('table')]\n",
    "    def parse_html_table(self, table):\n",
    "        n_columns=0\n",
    "        n_rows=0\n",
    "        column_names = []\n",
    "\n",
    "        for row in table.find_all('tr'):\n",
    "\n",
    "            td_tags = row.find_all('td')\n",
    "            if len(td_tags)>0:\n",
    "                n_rows += 1\n",
    "                if n_columns == 0:\n",
    "                    n_columns = len(td_tags)\n",
    "\n",
    "            th_tags = row.find_all('th')\n",
    "            if len(th_tags)>0 and len(column_names) == 0:\n",
    "                for th in th_tags:\n",
    "                    column_names.append(th.get_text())\n",
    "\n",
    "        if len(column_names)>0 and len(column_names) != n_columns:\n",
    "            raise Exception(\"Column titles do not match the number of columns\")\n",
    "\n",
    "\n",
    "        columns = column_names if len(column_names)>0 else range(0, n_columns)\n",
    "        df=pd.DataFrame(columns=columns,index=range(0,n_rows))\n",
    "        row_marker = 0\n",
    "\n",
    "        for row in table.find_all('tr'):\n",
    "                column_marker = 0\n",
    "                columns = row.find_all('td')\n",
    "                for column in columns:\n",
    "                    df.iat[row_marker, column_marker] = column.get_text()\n",
    "                    column_marker += 1\n",
    "\n",
    "                if len(columns)>0:\n",
    "                    row_marker += 1\n",
    "\n",
    "\n",
    "        for col in df:\n",
    "            try:\n",
    "                if col == 'Rank':\n",
    "                    continue\n",
    "                df[col] = df[col].astype(float)\n",
    "\n",
    "\n",
    "            except ValueError:\n",
    "                pass\n",
    "\n",
    "        return df"
   ]
  },
  {
   "cell_type": "code",
   "execution_count": 7,
   "metadata": {},
   "outputs": [
    {
     "data": {
      "image/png": "[encoded data removed]",
      "text/plain": [
       "<Figure size 432x288 with 1 Axes>"
      ]
     },
     "metadata": {},
     "output_type": "display_data"
    }
   ],
   "source": [
    "if __name__=='__main__':\n",
    "    url = \"https://www.fantasypros.com/nfl/reports/leaders/rb.php?year=2015\"\n",
    "    \n",
    "    hp = HTMLTableParser()\n",
    "    table = hp.parse_url(url)[0].head(10)\n",
    "    plt.figure()\n",
    "    \n",
    "    objects = table['Player'].values\n",
    "    y_pos = np.arange(len(objects))\n",
    "    performance = table['Avg'].values\n",
    "\n",
    "    plt.barh(y_pos, performance, 0.3, align='center', alpha=0.5)\n",
    "    plt.yticks(y_pos, objects)\n",
    "    plt.xlabel('Avg')\n",
    "    plt.title(\"Top Running bag's AVG\")\n",
    "\n",
    "    plt.show()"
   ]
  },
  {
   "cell_type": "code",
   "execution_count": 67,
   "metadata": {},
   "outputs": [
    {
     "data": {
      "text/html": [
       "<div>\n",
       "<style scoped>\n",
       "    .dataframe tbody tr th:only-of-type {\n",
       "        vertical-align: middle;\n",
       "    }\n",
       "\n",
       "    .dataframe tbody tr th {\n",
       "        vertical-align: top;\n",
       "    }\n",
       "\n",
       "    .dataframe thead th {\n",
       "        text-align: right;\n",
       "    }\n",
       "</style>\n",
       "<table border=\"1\" class=\"dataframe\">\n",
       "  <thead>\n",
       "    <tr style=\"text-align: right;\">\n",
       "      <th></th>\n",
       "      <th>Rank</th>\n",
       "      <th>Player</th>\n",
       "      <th>Team</th>\n",
       "      <th>Points</th>\n",
       "      <th>Games</th>\n",
       "      <th>Avg</th>\n",
       "    </tr>\n",
       "  </thead>\n",
       "  <tbody>\n",
       "    <tr>\n",
       "      <th>0</th>\n",
       "      <td>1</td>\n",
       "      <td>Devonta Freeman</td>\n",
       "      <td>ATL</td>\n",
       "      <td>243.9</td>\n",
       "      <td>15.0</td>\n",
       "      <td>16.3</td>\n",
       "    </tr>\n",
       "    <tr>\n",
       "      <th>1</th>\n",
       "      <td>2</td>\n",
       "      <td>Adrian Peterson</td>\n",
       "      <td>WAS</td>\n",
       "      <td>230.7</td>\n",
       "      <td>16.0</td>\n",
       "      <td>14.4</td>\n",
       "    </tr>\n",
       "    <tr>\n",
       "      <th>2</th>\n",
       "      <td>3</td>\n",
       "      <td>Doug Martin</td>\n",
       "      <td>OAK</td>\n",
       "      <td>199.3</td>\n",
       "      <td>16.0</td>\n",
       "      <td>12.5</td>\n",
       "    </tr>\n",
       "    <tr>\n",
       "      <th>3</th>\n",
       "      <td>4</td>\n",
       "      <td>DeAngelo Williams</td>\n",
       "      <td>FA</td>\n",
       "      <td>193.4</td>\n",
       "      <td>16.0</td>\n",
       "      <td>12.1</td>\n",
       "    </tr>\n",
       "    <tr>\n",
       "      <th>4</th>\n",
       "      <td>5</td>\n",
       "      <td>Todd Gurley</td>\n",
       "      <td>LAR</td>\n",
       "      <td>187.6</td>\n",
       "      <td>13.0</td>\n",
       "      <td>14.4</td>\n",
       "    </tr>\n",
       "    <tr>\n",
       "      <th>5</th>\n",
       "      <td>6</td>\n",
       "      <td>Lamar Miller</td>\n",
       "      <td>HOU</td>\n",
       "      <td>184.9</td>\n",
       "      <td>16.0</td>\n",
       "      <td>11.6</td>\n",
       "    </tr>\n",
       "    <tr>\n",
       "      <th>6</th>\n",
       "      <td>7</td>\n",
       "      <td>David Johnson</td>\n",
       "      <td>ARI</td>\n",
       "      <td>173.8</td>\n",
       "      <td>16.0</td>\n",
       "      <td>10.9</td>\n",
       "    </tr>\n",
       "    <tr>\n",
       "      <th>7</th>\n",
       "      <td>8</td>\n",
       "      <td>Chris Ivory</td>\n",
       "      <td>BUF</td>\n",
       "      <td>172.7</td>\n",
       "      <td>15.0</td>\n",
       "      <td>11.5</td>\n",
       "    </tr>\n",
       "    <tr>\n",
       "      <th>8</th>\n",
       "      <td>9</td>\n",
       "      <td>Matt Forte</td>\n",
       "      <td>FA</td>\n",
       "      <td>170.7</td>\n",
       "      <td>13.0</td>\n",
       "      <td>13.1</td>\n",
       "    </tr>\n",
       "    <tr>\n",
       "      <th>9</th>\n",
       "      <td>10</td>\n",
       "      <td>Danny Woodhead</td>\n",
       "      <td>FA</td>\n",
       "      <td>163.1</td>\n",
       "      <td>16.0</td>\n",
       "      <td>10.2</td>\n",
       "    </tr>\n",
       "  </tbody>\n",
       "</table>\n",
       "</div>"
      ],
      "text/plain": [
       "  Rank             Player Team  Points  Games   Avg\n",
       "0    1    Devonta Freeman  ATL   243.9   15.0  16.3\n",
       "1    2    Adrian Peterson  WAS   230.7   16.0  14.4\n",
       "2    3        Doug Martin  OAK   199.3   16.0  12.5\n",
       "3    4  DeAngelo Williams   FA   193.4   16.0  12.1\n",
       "4    5        Todd Gurley  LAR   187.6   13.0  14.4\n",
       "5    6       Lamar Miller  HOU   184.9   16.0  11.6\n",
       "6    7      David Johnson  ARI   173.8   16.0  10.9\n",
       "7    8        Chris Ivory  BUF   172.7   15.0  11.5\n",
       "8    9         Matt Forte   FA   170.7   13.0  13.1\n",
       "9   10     Danny Woodhead   FA   163.1   16.0  10.2"
      ]
     },
     "execution_count": 67,
     "metadata": {},
     "output_type": "execute_result"
    }
   ],
   "source": [
    "table"
   ]
  },
  {
   "cell_type": "code",
   "execution_count": null,
   "metadata": {},
   "outputs": [],
   "source": []
  },
  {
   "cell_type": "markdown",
   "metadata": {},
   "source": [
    "# RE Module"
   ]
  },
  {
   "cell_type": "code",
   "execution_count": 668,
   "metadata": {},
   "outputs": [],
   "source": [
    "import re"
   ]
  },
  {
   "cell_type": "markdown",
   "metadata": {},
   "source": [
    "1. 각 단어의 처음 두 문자를 반환해 출력하는 코드를 작성하시오.  \n",
    "string = “Earth is the third planet from the Sun”"
   ]
  },
  {
   "cell_type": "code",
   "execution_count": 153,
   "metadata": {
    "scrolled": true
   },
   "outputs": [
    {
     "name": "stdout",
     "output_type": "stream",
     "text": [
      "['Ea', 'is', 'th', 'th', 'pl', 'fr', 'th', 'Su']\n"
     ]
    }
   ],
   "source": [
    "string = \"Earth is the third planet from the Sun\"\n",
    "result=re.findall(r'\\b\\w[^.{2}]',string)\n",
    "print(result)"
   ]
  },
  {
   "cell_type": "markdown",
   "metadata": {},
   "source": [
    "2. 아래에서 email의 도메인을 반환해 출력하는 코드를 작성하시오.  \n",
    "string = ‘abc.test@gmail.com, xyz@test.in, test.first@analyticsvidhya.com, first.test@rest.biz‘"
   ]
  },
  {
   "cell_type": "code",
   "execution_count": 32,
   "metadata": {},
   "outputs": [
    {
     "name": "stdout",
     "output_type": "stream",
     "text": [
      "['gmail.com', 'test.in', 'analyticsvidhya.com', 'rest.biz']\n"
     ]
    }
   ],
   "source": [
    "string = \"abc.test@gmail.com, xyz@test.in, test.first@analyticsvidhya.com, first.test@rest.biz\"\n",
    "result=re.findall(r'@(\\w+[.]\\w+)',string)\n",
    "\n",
    "print(result)"
   ]
  },
  {
   "cell_type": "markdown",
   "metadata": {},
   "source": [
    "3. 아래에서 날짜를 반환해 출력하는 코드를 작성하시오.  \n",
    "string = ‘Amit 34-3456 12-05-2007, XYZ 56-4532 11-11-2011, ABC 67-8945 12-01-2009‘"
   ]
  },
  {
   "cell_type": "code",
   "execution_count": 35,
   "metadata": {},
   "outputs": [
    {
     "name": "stdout",
     "output_type": "stream",
     "text": [
      "['12-05-2007', '11-11-2011', '12-01-2009']\n"
     ]
    }
   ],
   "source": [
    "string = 'Amit 34-3456 12-05-2007, XYZ 56-4532 11-11-2011, ABC 67-8945 12-01-2009'\n",
    "result = re.findall(r'\\d{2}[-]\\d{2}[-]\\d{4}',string)\n",
    "\n",
    "print(result)"
   ]
  },
  {
   "cell_type": "markdown",
   "metadata": {},
   "source": [
    "4. 아래에서 모음으로 시작하는 모든 단어를 반환해 출력하는 코드를 작성하시오.  \n",
    "string = “Earth's gravity interacts with other objects in space, especially the Sun and the Moon.\""
   ]
  },
  {
   "cell_type": "code",
   "execution_count": 669,
   "metadata": {},
   "outputs": [
    {
     "name": "stdout",
     "output_type": "stream",
     "text": [
      "['Earth', 'interacts', 'other', 'objects', 'in', 'especially', 'and']\n"
     ]
    }
   ],
   "source": [
    "string = \"Earth's gravity interacts with other objects in space, especially the Sun and the Moon.\"\n",
    "result = re.findall(r'\\b[AEIOUaeiou][\\w]*',string)\n",
    "\n",
    "print(result)"
   ]
  },
  {
   "cell_type": "markdown",
   "metadata": {},
   "source": [
    "5. 주어진 리스트의 각 요소가 휴대폰 번호라고 할 때, 이 번호들의 유효성을 검사하시오.  \n",
    "각 요소에 대해 유효성이 맞으면 yes 를 출력 , , 틀리면 no 를 출력하는 코드를 작성하시오.   \n",
    "(번호는 010 + ‘-’ + 3 자리 or 4 자리 숫자 + ‘-’ + 4자리 숫자로 구성된다고 가정)  \n",
    "lst = [‘010-256-1354’, ‘010-1234-5576, ‘070-642-0384’, ‘010-290*-4858’, ‘0105734123’]"
   ]
  },
  {
   "cell_type": "code",
   "execution_count": 176,
   "metadata": {},
   "outputs": [
    {
     "name": "stdout",
     "output_type": "stream",
     "text": [
      "True, True, False, False, False, "
     ]
    }
   ],
   "source": [
    "lst = ['010-256-1354', '010-1234-5576', '070-642-0384', '010-290*-4858', '0105734123']\n",
    "\n",
    "pat = re.compile('010[-]\\d{3,4}[-]\\d{4}')\n",
    "\n",
    "\n",
    "for i in lst:\n",
    "    print(pat.match(i) !=None, end=', ')"
   ]
  },
  {
   "cell_type": "markdown",
   "metadata": {},
   "source": [
    "# NLTK Project"
   ]
  },
  {
   "cell_type": "code",
   "execution_count": 585,
   "metadata": {},
   "outputs": [
    {
     "name": "stdout",
     "output_type": "stream",
     "text": [
      "austen-emma.txt\n",
      "austen-persuasion.txt\n",
      "austen-sense.txt\n",
      "bible-kjv.txt\n",
      "blake-poems.txt\n",
      "bryant-stories.txt\n",
      "burgess-busterbrown.txt\n",
      "carroll-alice.txt\n",
      "chesterton-ball.txt\n",
      "chesterton-brown.txt\n",
      "chesterton-thursday.txt\n",
      "edgeworth-parents.txt\n",
      "melville-moby_dick.txt\n",
      "milton-paradise.txt\n",
      "shakespeare-caesar.txt\n",
      "shakespeare-hamlet.txt\n",
      "shakespeare-macbeth.txt\n",
      "whitman-leaves.txt\n"
     ]
    }
   ],
   "source": [
    "import nltk\n",
    "from nltk.corpus import gutenberg as gu\n",
    "for file in gu.fileids():\n",
    "    print(file)"
   ]
  },
  {
   "cell_type": "code",
   "execution_count": 672,
   "metadata": {},
   "outputs": [],
   "source": [
    "from nltk.tokenize import sent_tokenize\n",
    "import numpy as np\n",
    "import pandas as pd\n",
    "from nltk.corpus import stopwords\n",
    "import matplotlib.pyplot as plt"
   ]
  },
  {
   "cell_type": "code",
   "execution_count": 698,
   "metadata": {},
   "outputs": [],
   "source": [
    "shake = ['shakespeare-hamlet.txt','shakespeare-macbeth.txt','shakespeare-caesar.txt']\n",
    "milton = ['milton-paradise.txt']\n",
    "austen = ['austen-persuasion.txt']\n",
    "moby = ['melville-moby_dick.txt']\n",
    "\n",
    "from nltk.tokenize import RegexpTokenizer\n",
    "tokenizer = RegexpTokenizer(\"[\\w']+\")\n",
    "\n",
    "\n",
    "           \n",
    "rshake = gu.raw(shake)\n",
    "rmilton = gu.raw(milton)\n",
    "rausten = gu.raw(austen)\n",
    "rmoby = gu.raw(moby)\n",
    "\n",
    "tshake = tokenizer.tokenize(rshake)\n",
    "tmilton = tokenizer.tokenize(rmilton)\n",
    "tausten = tokenizer.tokenize(rausten)\n",
    "tmoby = tokenizer.tokenize(rmoby)\n"
   ]
  },
  {
   "cell_type": "code",
   "execution_count": 588,
   "metadata": {},
   "outputs": [],
   "source": [
    "tmoby=tmoby[:80000]"
   ]
  },
  {
   "cell_type": "markdown",
   "metadata": {},
   "source": [
    "# stopwords 포함"
   ]
  },
  {
   "cell_type": "code",
   "execution_count": 696,
   "metadata": {},
   "outputs": [],
   "source": [
    "total_token = tshake+tmilton+tausten+tmoby"
   ]
  },
  {
   "cell_type": "code",
   "execution_count": 590,
   "metadata": {},
   "outputs": [],
   "source": [
    "fdist = nltk.FreqDist([w.lower() for w in total_token])"
   ]
  },
  {
   "cell_type": "code",
   "execution_count": 591,
   "metadata": {},
   "outputs": [],
   "source": [
    "df=pd.DataFrame(fdist, index =[0])"
   ]
  },
  {
   "cell_type": "code",
   "execution_count": 592,
   "metadata": {},
   "outputs": [],
   "source": [
    "df1=df.transpose()"
   ]
  },
  {
   "cell_type": "code",
   "execution_count": 593,
   "metadata": {},
   "outputs": [],
   "source": [
    "df2=df1.sort_values(by=[0],ascending=False)"
   ]
  },
  {
   "cell_type": "code",
   "execution_count": 594,
   "metadata": {},
   "outputs": [],
   "source": [
    "df2=df2.head(50)"
   ]
  },
  {
   "cell_type": "code",
   "execution_count": 595,
   "metadata": {
    "scrolled": false
   },
   "outputs": [],
   "source": [
    "import itertools"
   ]
  },
  {
   "cell_type": "code",
   "execution_count": 596,
   "metadata": {},
   "outputs": [],
   "source": [
    "def slice(lst, size):\n",
    "    it = iter(lst)\n",
    "    item = list(itertools.islice(it,size))\n",
    "    while item:\n",
    "        yield item\n",
    "        item = list(itertools.islice(it, size))"
   ]
  },
  {
   "cell_type": "code",
   "execution_count": 597,
   "metadata": {},
   "outputs": [],
   "source": [
    "tlist=list(slice(tshake,5000))\n",
    "tlist1=list(slice(tmilton,5000))\n",
    "tlist2=list(slice(tausten,5000))\n",
    "tlist3=list(slice(tmoby,5000))"
   ]
  },
  {
   "cell_type": "code",
   "execution_count": 598,
   "metadata": {},
   "outputs": [],
   "source": [
    "top50word=list(df2.index)"
   ]
  },
  {
   "cell_type": "code",
   "execution_count": 599,
   "metadata": {},
   "outputs": [],
   "source": [
    "def mostFreqFilter(dictionary,filterList):\n",
    "    lst = []\n",
    "    for i in filterList:\n",
    "        lst.append(dictionary.get(i))\n",
    "    return lst"
   ]
  },
  {
   "cell_type": "code",
   "execution_count": 600,
   "metadata": {},
   "outputs": [],
   "source": [
    "def freqListWithStopwords(lst):\n",
    "    return nltk.FreqDist([w.lower() for w in lst])"
   ]
  },
  {
   "cell_type": "code",
   "execution_count": 601,
   "metadata": {},
   "outputs": [],
   "source": [
    "def makeMatrixWithStop(doc_5000):\n",
    "    lst2 = []\n",
    "    for words in (doc_5000):\n",
    "        lst2.append(mostFreqFilter(freqListWithStopwords(words),top50word))\n",
    "    dff = pd.DataFrame(lst2)\n",
    "    dff.columns = top50word\n",
    "    dff.fillna(0,inplace=True)\n",
    "    average = [w for w in [dff[i].mean() for i in top50word]]\n",
    "    std = [w for w in [dff[i].std() for i in top50word]]\n",
    "    dff.loc[len(dff)] = average\n",
    "    dff.loc[len(dff)] = std\n",
    "    return dff"
   ]
  },
  {
   "cell_type": "code",
   "execution_count": 602,
   "metadata": {},
   "outputs": [],
   "source": [
    "shake=makeMatrixWithStop(tlist)\n",
    "milton=makeMatrixWithStop(tlist1)\n",
    "austen=makeMatrixWithStop(tlist2)\n",
    "moby=makeMatrixWithStop(tlist3)"
   ]
  },
  {
   "cell_type": "code",
   "execution_count": 603,
   "metadata": {},
   "outputs": [
    {
     "data": {
      "image/png": "[encoded data removed]",
      "text/plain": [
       "<Figure size 432x288 with 1 Axes>"
      ]
     },
     "metadata": {},
     "output_type": "display_data"
    }
   ],
   "source": [
    "plt.plot(shake.iloc[-2],label='Shakespeare')\n",
    "plt.plot(milton.iloc[-2],label='John Milton')\n",
    "plt.plot(austen.iloc[-2],label='Jane Austen')\n",
    "plt.plot(moby.iloc[-2],label='Herman Melville')\n",
    "plt.legend()\n",
    "plt.show()"
   ]
  },
  {
   "cell_type": "markdown",
   "metadata": {},
   "source": [
    "# stopwords 미포함"
   ]
  },
  {
   "cell_type": "code",
   "execution_count": 639,
   "metadata": {},
   "outputs": [],
   "source": [
    "from nltk.corpus import stopwords\n",
    "english_stops =set(stopwords.words('english'))"
   ]
  },
  {
   "cell_type": "code",
   "execution_count": 700,
   "metadata": {},
   "outputs": [],
   "source": [
    "total_token_s=[w.lower()for w in total_token]"
   ]
  },
  {
   "cell_type": "code",
   "execution_count": 702,
   "metadata": {},
   "outputs": [],
   "source": [
    "total_token1=[word for word in total_token_s if word not in english_stops]"
   ]
  },
  {
   "cell_type": "code",
   "execution_count": 703,
   "metadata": {},
   "outputs": [],
   "source": [
    "fdist1 = nltk.FreqDist([w.lower() for w in total_token1])"
   ]
  },
  {
   "cell_type": "code",
   "execution_count": 704,
   "metadata": {},
   "outputs": [],
   "source": [
    "dfm=pd.DataFrame(fdist1, index =[0])"
   ]
  },
  {
   "cell_type": "code",
   "execution_count": 705,
   "metadata": {},
   "outputs": [],
   "source": [
    "dfm1=dfm.transpose()\n",
    "dfm2=dfm1.sort_values(by=[0],ascending=False)"
   ]
  },
  {
   "cell_type": "code",
   "execution_count": 707,
   "metadata": {},
   "outputs": [],
   "source": [
    "dfm2=dfm2.head(50)"
   ]
  },
  {
   "cell_type": "code",
   "execution_count": 708,
   "metadata": {},
   "outputs": [],
   "source": [
    "top50word_m=list(dfm2.index)"
   ]
  },
  {
   "cell_type": "code",
   "execution_count": 710,
   "metadata": {},
   "outputs": [],
   "source": [
    "def mostFreqFilter(dictionary,filterList):\n",
    "    lst = []\n",
    "    for i in filterList:\n",
    "        lst.append(dictionary.get(i))\n",
    "    return lst"
   ]
  },
  {
   "cell_type": "code",
   "execution_count": 711,
   "metadata": {},
   "outputs": [],
   "source": [
    "def freqListWithStopwords(lst):\n",
    "    return nltk.FreqDist([w.lower() for w in lst])"
   ]
  },
  {
   "cell_type": "code",
   "execution_count": 712,
   "metadata": {},
   "outputs": [],
   "source": [
    "def makeMatrixWithStop_m(doc_5000):\n",
    "    lst2 = []\n",
    "    for words in (doc_5000):\n",
    "        lst2.append(mostFreqFilter(freqListWithStopwords(words),top50word_m))\n",
    "    dff = pd.DataFrame(lst2)\n",
    "    dff.columns = top50word_m\n",
    "    dff.fillna(0,inplace=True)\n",
    "    average = [w for w in [dff[i].mean() for i in top50word_m]]\n",
    "    std = [w for w in [dff[i].std() for i in top50word_m]]\n",
    "    dff.loc[len(dff)] = average\n",
    "    dff.loc[len(dff)] = std\n",
    "    return dff"
   ]
  },
  {
   "cell_type": "code",
   "execution_count": 713,
   "metadata": {},
   "outputs": [],
   "source": [
    "shake1=makeMatrixWithStop_m(tlist)\n",
    "milton1=makeMatrixWithStop_m(tlist1)\n",
    "austen1=makeMatrixWithStop_m(tlist2)\n",
    "moby1=makeMatrixWithStop_m(tlist3)"
   ]
  },
  {
   "cell_type": "code",
   "execution_count": 714,
   "metadata": {},
   "outputs": [
    {
     "data": {
      "image/png": "[encoded data removed]",
      "text/plain": [
       "<Figure size 432x288 with 1 Axes>"
      ]
     },
     "metadata": {},
     "output_type": "display_data"
    }
   ],
   "source": [
    "plt.plot(shake1.iloc[-2],label='Shakespeare')\n",
    "plt.plot(milton1.iloc[-2],label='John Milton')\n",
    "plt.plot(austen1.iloc[-2],label='Jane Austen')\n",
    "plt.plot(moby1.iloc[-2],label='Herman Melville')\n",
    "plt.legend()\n",
    "plt.show()"
   ]
  }
 ],
 "metadata": {
  "kernelspec": {
   "display_name": "Python 3",
   "language": "python",
   "name": "python3"
  },
  "language_info": {
   "codemirror_mode": {
    "name": "ipython",
    "version": 3
   },
   "file_extension": ".py",
   "mimetype": "text/x-python",
   "name": "python",
   "nbconvert_exporter": "python",
   "pygments_lexer": "ipython3",
   "version": "3.6.5"
  }
 },
 "nbformat": 4,
 "nbformat_minor": 2
}
